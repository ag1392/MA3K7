{
 "cells": [
  {
   "cell_type": "code",
   "execution_count": 1,
   "id": "b6fe8ed8",
   "metadata": {},
   "outputs": [],
   "source": [
    "import random "
   ]
  },
  {
   "cell_type": "code",
   "execution_count": 2,
   "id": "b54bb88d",
   "metadata": {},
   "outputs": [],
   "source": [
    "# Standard is_prime function\n",
    "\n",
    "def is_prime(n):\n",
    "    '''Return True if n prime, else False'''\n",
    "    if n <= 1:\n",
    "        return False\n",
    "    else:\n",
    "        for i in range(2, int(n**0.5) + 1):\n",
    "            #Check every integer less than sqrt(n)+1\n",
    "            if n % i == 0:\n",
    "                return False\n",
    "        return True"
   ]
  },
  {
   "cell_type": "code",
   "execution_count": 3,
   "id": "f453236c",
   "metadata": {},
   "outputs": [],
   "source": [
    "# Implementation of a(n) in Python\n",
    "\n",
    "def BL_numbers(n): \n",
    "    #a(4n+4)\n",
    "    return 4*n**2 + 10*n + 7\n",
    "\n",
    "def BR_numbers(n):\n",
    "    #a(4n+1)\n",
    "    return 4*n**2 + 4*n + 1\n",
    "\n",
    "def TR_numbers(n): \n",
    "    #a(4n+2)\n",
    "    return 4*n**2 + 6*n + 3\n",
    "\n",
    "def TL_numbers(n): \n",
    "    #a(4n+3)\n",
    "    return 4*n**2 + 8*n + 5"
   ]
  },
  {
   "cell_type": "code",
   "execution_count": 5,
   "id": "6addf7a0",
   "metadata": {},
   "outputs": [
    {
     "name": "stdout",
     "output_type": "stream",
     "text": [
      "0.1558\n",
      "0.1137\n"
     ]
    }
   ],
   "source": [
    "# Experiment in attack phase \n",
    "\n",
    "N = 10000\n",
    "\n",
    "#TL Corner numbers \n",
    "tl_prime_count = 0\n",
    "for n in range(N): \n",
    "    if(is_prime(TL_numbers(n))): \n",
    "        tl_prime_count += 1\n",
    "        \n",
    "print(tl_prime_count/N)\n",
    "\n",
    "#Random odd numbers \n",
    "random_prime_count = 0 \n",
    "for n in range(N): \n",
    "    rand = 0\n",
    "    while(rand%2 == 0): \n",
    "        #Only want odd numbers\n",
    "        rand = random.randint(TL_numbers(n),TL_numbers(n+1))\n",
    "    if(is_prime(rand)):\n",
    "        random_prime_count += 1\n",
    "\n",
    "print(random_prime_count/N)"
   ]
  },
  {
   "cell_type": "code",
   "execution_count": 6,
   "id": "622e082d",
   "metadata": {},
   "outputs": [
    {
     "name": "stdout",
     "output_type": "stream",
     "text": [
      "0.8896\n"
     ]
    }
   ],
   "source": [
    "# Experiment in review phase \n",
    "\n",
    "def review_function(n):\n",
    "    return n^2 + n + 1\n",
    "\n",
    "review_prime_count = 0 \n",
    "for n in range(N): \n",
    "    if(is_prime(review_function(n))): \n",
    "        review_prime_count += 1\n",
    "        \n",
    "print(review_prime_count/N)"
   ]
  },
  {
   "cell_type": "code",
   "execution_count": null,
   "id": "881b6071",
   "metadata": {},
   "outputs": [],
   "source": []
  }
 ],
 "metadata": {
  "kernelspec": {
   "display_name": "Python 3 (ipykernel)",
   "language": "python",
   "name": "python3"
  },
  "language_info": {
   "codemirror_mode": {
    "name": "ipython",
    "version": 3
   },
   "file_extension": ".py",
   "mimetype": "text/x-python",
   "name": "python",
   "nbconvert_exporter": "python",
   "pygments_lexer": "ipython3",
   "version": "3.9.7"
  }
 },
 "nbformat": 4,
 "nbformat_minor": 5
}
