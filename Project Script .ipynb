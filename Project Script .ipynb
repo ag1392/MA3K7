{
 "cells": [
  {
   "cell_type": "code",
   "execution_count": 29,
   "id": "520c915a",
   "metadata": {},
   "outputs": [],
   "source": [
    "import random \n",
    "import numpy as np\n",
    "import matplotlib.pyplot as plt\n",
    "from statistics import mode, variance"
   ]
  },
  {
   "cell_type": "markdown",
   "id": "2c8cbd77",
   "metadata": {},
   "source": [
    "# Attack Phase"
   ]
  },
  {
   "cell_type": "code",
   "execution_count": 12,
   "id": "677e9a37",
   "metadata": {},
   "outputs": [
    {
     "name": "stdout",
     "output_type": "stream",
     "text": [
      "3.2843421893016322\n",
      "6.738217745497863\n",
      "2.053141618332875\n"
     ]
    }
   ],
   "source": [
    "def expected_loops(n): \n",
    "    '''Implementation of formula in rubric for E[L_n]'''\n",
    "    total = 0\n",
    "    for i in range(1,n+1): \n",
    "        total += 1/(2*i-1)\n",
    "\n",
    "    return total\n",
    "\n",
    "print(expected_loops(100))\n",
    "print(expected_loops(100000))\n",
    "\n",
    "def expected_loops_square(n):\n",
    "    '''Implementation of formula in rubric for E[L_n^2]'''\n",
    "\n",
    "    expected = expected_loops(n)\n",
    "    total = 0 \n",
    "    for i in range(1,n+1):\n",
    "        for j in range(1,i):\n",
    "            total += (2/(2*i-1))*(1/(2*j-1))\n",
    "    \n",
    "    return total + expected\n",
    "\n",
    "def var_loops(n):\n",
    "    '''Implementation of formula in rubric for var(L_n)'''\n",
    "    return expected_loops_square(n) - (expected_loops(n))**2\n",
    "\n",
    "print(var_loops(100))"
   ]
  },
  {
   "cell_type": "code",
   "execution_count": 13,
   "id": "3aa471a6",
   "metadata": {},
   "outputs": [
    {
     "data": {
      "image/png": "[encoded data removed]",
      "text/plain": [
       "<Figure size 576x432 with 1 Axes>"
      ]
     },
     "metadata": {
      "needs_background": "light"
     },
     "output_type": "display_data"
    }
   ],
   "source": [
    "def combinations(n, k):\n",
    "    '''Return all possible ordered combinations for i_1,...i_{k-1}\n",
    "       to sum over in loop_dsitribution'''\n",
    "    def backtrack(start, k, path, result):\n",
    "        '''Function for recursion'''\n",
    "        if k == 0:\n",
    "            result.append(path[:])\n",
    "            return\n",
    "        for i in range(start, n+1):\n",
    "            path.append(i)\n",
    "            backtrack(i + 1, k - 1, path, result)\n",
    "            path.pop()\n",
    "    \n",
    "    result = []\n",
    "    backtrack(2, k-1, [], result)\n",
    "    return result\n",
    "\n",
    "def loop_distribution(n,k):\n",
    "    '''Returns P(L_n = k) using formula found in rubric'''\n",
    "    total =  0 \n",
    "    #initialise all possible combos of i_values for the k sums \n",
    "    ranges = combinations(n,k)\n",
    "    \n",
    "    for i_vals in ranges: \n",
    "        prod = 1\n",
    "        for j in range(1,k):\n",
    "            prod *= 1/(2*i_vals[j-1]-1)\n",
    "        for j in range(2,n+1): \n",
    "            if j not in i_vals: \n",
    "                prod *= (2*j-2)/(2*j-1)\n",
    "        total += prod\n",
    "    \n",
    "    return total\n",
    "\n",
    "def plot_distribution(n):\n",
    "    '''Plots the distribution of L_n given a value of n'\n",
    "        warning - computationally expensive for large values of n'''\n",
    "    k_values = list(range(1,n+1))\n",
    "    probabilities = [loop_distribution(n,k) for k in k_values]\n",
    "    \n",
    "    plt.figure(figsize=(8,6))\n",
    "    #only integer values on x axis\n",
    "    plt.title(f'Distribution of $L_n$ for n = {n}', fontsize = 20)\n",
    "    plt.xticks(range(1,n+1))\n",
    "    plt.yticks(np.arange(0,0.45,0.05))\n",
    "    plt.ylim(0,0.45)\n",
    "    plt.xlabel(f'Number of loops ($k$)', fontsize=15)\n",
    "    plt.ylabel(f'Probability ($P(L_n = k)$)', fontsize=15)\n",
    "    \n",
    "    \n",
    "    \n",
    "    plt.bar(k_values, probabilities, width=1, edgecolor='k')\n",
    "    \n",
    "    \n",
    "    \n",
    "    \n",
    "\n",
    "    \n",
    "    probabilities = [x.count(k)/n for k in range(k_values)]\n",
    "    \n",
    "    \n",
    "    \n",
    "    plt.show()\n",
    "    \n",
    "    return None \n",
    "\n",
    "plot_distribution(5)"
   ]
  },
  {
   "cell_type": "code",
   "execution_count": 2,
   "id": "10ab072d",
   "metadata": {},
   "outputs": [],
   "source": [
    "class String(): \n",
    "    \n",
    "    def __init__(self, length):\n",
    "        self.length = length \n",
    "        \n",
    "    def copy(self):\n",
    "        return String(self.length)\n",
    "            \n",
    "class Bowl():\n",
    "    \n",
    "    def __init__(self, n): \n",
    "        self.n = n \n",
    "        self.strings = [String(1) for _ in range(n)]\n",
    "        self.loops = []\n",
    "        self.move_count = 0 \n",
    "    \n",
    "    def round_of_moves(self):\n",
    "        '''Perform one round of the process\n",
    "        -  choose two random open ends and tie them'''\n",
    "        \n",
    "        # Pick random string \n",
    "        string_1_index = random.randint(0,len(self.strings)-1)\n",
    "        string_1 = self.strings[string_1_index]\n",
    "        \n",
    "        # Prob of picking other end of same string is 1/(2k-1)\n",
    "        # where k number of strings (not loops)\n",
    "        if random.randint(1,2*len(self.strings)-1) == 1: \n",
    "            # Form a loop \n",
    "            self.loops.append(string_1.copy())\n",
    "        \n",
    "            del self.strings[string_1_index]\n",
    "            \n",
    "        else: \n",
    "            # Choose a different string, combine these into a new string \n",
    "            string_2_index = random.choice([i for i in range(0,len(self.strings)) if i != string_1_index])\n",
    "            string_2 = self.strings[string_2_index]\n",
    "            \n",
    "            # Create a new string\n",
    "            \n",
    "            new_length = string_1.length + string_2.length\n",
    "            new_string = String(new_length)\n",
    "            \n",
    "            #remove old strings \n",
    "            self.strings = [string for index, string in enumerate(self.strings) if \n",
    "                            index not in [string_1_index, string_2_index]]\n",
    "            \n",
    "            #add new string \n",
    "            self.strings.append(new_string)\n",
    "            \n",
    "        self.move_count += 1 \n",
    "            \n",
    "        return None \n",
    "    \n",
    "    def end_process(self): \n",
    "        '''Perform n rounds such that only loops remain in the bowl'''\n",
    "        while(self.move_count<self.n):\n",
    "            self.round_of_moves()\n",
    "        \n",
    "        return None \n",
    "    \n",
    "    def loop_lengths(self): \n",
    "        '''Return list containing length of all loops in bowl'''\n",
    "        lengths = [loop.length for loop in self.loops]\n",
    "        \n",
    "        return lengths\n",
    "  "
   ]
  },
  {
   "cell_type": "code",
   "execution_count": null,
   "id": "5af2488a",
   "metadata": {},
   "outputs": [],
   "source": [
    "#Estimating mode of L_200\n",
    "\n",
    "num_of_loops = []\n",
    "n = 200\n",
    "\n",
    "for i in range(10000):\n",
    "    test_bowl = Bowl(n)\n",
    "    test_bowl.end_process()\n",
    "    num_of_loops.append(len(test_bowl.loop_lengths()))\n",
    "    \n",
    "\n",
    "print(num_of_loops.count(2))\n",
    "print(num_of_loops.count(3))\n",
    "print(mode(num_of_loops))"
   ]
  },
  {
   "cell_type": "code",
   "execution_count": 28,
   "id": "84ca3cce",
   "metadata": {
    "scrolled": false
   },
   "outputs": [
    {
     "data": {
      "image/png": "[encoded data removed]",
      "text/plain": [
       "<Figure size 576x432 with 1 Axes>"
      ]
     },
     "metadata": {
      "needs_background": "light"
     },
     "output_type": "display_data"
    }
   ],
   "source": [
    "def expected_average_length(n):\n",
    "    '''Implementation of formula for E[M_n] found in rubric\n",
    "        warning - very memory intensive'''\n",
    "    total = 0 \n",
    "    for k in range(1, n+1): \n",
    "        total += loop_distribution(n,k) * (1/k)\n",
    "    \n",
    "    return n*total\n",
    "\n",
    "#plot E[M_n] for 1 <= n <= 20 \n",
    "n_values = np.arange(1,21)\n",
    "\n",
    "expected_vals = []\n",
    "for n in n_values:\n",
    "    expected_vals.append(expected_average_length(n))\n",
    "\n",
    "plt.figure(figsize=(8,6))\n",
    "plt.title('Plot of E$[M_n]$ against $n$', fontsize=20)\n",
    "plt.xlabel('Starting number of strings ($n$)', fontsize=15)\n",
    "plt.xticks(range(1,n+1, 2))\n",
    "plt.ylabel('Expected average length of loop (E$[M_n]$)', fontsize=15)\n",
    "plt.plot(n_values, expected_vals)\n",
    "plt.show()"
   ]
  },
  {
   "cell_type": "markdown",
   "id": "cdcb7ad0",
   "metadata": {},
   "source": [
    "# Review Phase"
   ]
  },
  {
   "cell_type": "code",
   "execution_count": 35,
   "id": "46b6908c",
   "metadata": {},
   "outputs": [
    {
     "name": "stdout",
     "output_type": "stream",
     "text": [
      "3.2831\n",
      "2.0479591859185917\n"
     ]
    }
   ],
   "source": [
    "# Chcek E[L_n] and Var(L_n)\n",
    "\n",
    "#number of samples \n",
    "N = 10000\n",
    "\n",
    "#starting number of strings\n",
    "n = 100 \n",
    "\n",
    "loop_samples = []\n",
    "\n",
    "for _ in range(N):\n",
    "    bowl = Bowl(n)\n",
    "    bowl.end_process()\n",
    "    loop_samples.append(len(bowl.loop_lengths()))\n",
    "    \n",
    "print(np.mean(loop_samples))\n",
    "print(variance(loop_samples))\n",
    "    \n",
    "    \n"
   ]
  },
  {
   "cell_type": "code",
   "execution_count": 51,
   "id": "48017dce",
   "metadata": {},
   "outputs": [
    {
     "name": "stdout",
     "output_type": "stream",
     "text": [
      "0.9999999999999999\n"
     ]
    }
   ],
   "source": [
    "# Check distribution of L_n\n",
    "\n",
    "# Check, fixing a value of n, that the probabilities ranging over k sum to 1 \n",
    "n = 5\n",
    "total = 0 \n",
    "\n",
    "for i in range(1,n+1):\n",
    "    total += loop_distribution(n,i)\n",
    "    \n",
    "print(total)"
   ]
  },
  {
   "cell_type": "code",
   "execution_count": 50,
   "id": "945da30c",
   "metadata": {},
   "outputs": [
    {
     "name": "stdout",
     "output_type": "stream",
     "text": [
      "5.813584523809523\n",
      "5.814832968888698\n"
     ]
    }
   ],
   "source": [
    "# Check E[M_n]\n",
    "\n",
    "#number of samples \n",
    "N = 10000\n",
    "\n",
    "#starting number of strings\n",
    "n = 10 \n",
    "\n",
    "length_samples = []\n",
    "\n",
    "for _ in range(N):\n",
    "    bowl = Bowl(n)\n",
    "    bowl.end_process()\n",
    "    length_samples.append(np.mean(bowl.loop_lengths()))\n",
    "    \n",
    "#sample mean\n",
    "print(np.mean(length_samples))\n",
    "\n",
    "#exact value using fomrula \n",
    "print(expected_average_length(n))"
   ]
  },
  {
   "cell_type": "code",
   "execution_count": null,
   "id": "a38dd8ca",
   "metadata": {},
   "outputs": [],
   "source": [
    "# Extension \n",
    "\n",
    "#number of samples \n",
    "N = 10000\n",
    "\n",
    "n_values = np.arange(1,200, 20)\n",
    "estimates = []\n",
    "\n",
    "for n in n_values:\n",
    "    total = 0\n",
    "    for _ in range(N): \n",
    "        bowl = Bowl(n)\n",
    "        bowl.end_process()\n",
    "        if 1 in bowl.loop_lengths():\n",
    "            total += 1 \n",
    "    estimates.append(total/N)\n",
    "    \n",
    "    "
   ]
  },
  {
   "cell_type": "code",
   "execution_count": 62,
   "id": "f1d56703",
   "metadata": {},
   "outputs": [
    {
     "data": {
      "image/png": "[encoded data removed]",
      "text/plain": [
       "<Figure size 576x432 with 1 Axes>"
      ]
     },
     "metadata": {
      "needs_background": "light"
     },
     "output_type": "display_data"
    }
   ],
   "source": [
    "plt.figure(figsize=(8,6))\n",
    "plt.xlabel('Starting number of strings ($n$)', fontsize=15)\n",
    "plt.ylabel('Estimated prob of $\\geq 1$ loop of length one', fontsize=15)\n",
    "plt.plot(n_values, estimates)\n",
    "plt.show()\n",
    "    "
   ]
  },
  {
   "cell_type": "code",
   "execution_count": null,
   "id": "cce926af",
   "metadata": {},
   "outputs": [],
   "source": []
  }
 ],
 "metadata": {
  "kernelspec": {
   "display_name": "Python 3 (ipykernel)",
   "language": "python",
   "name": "python3"
  },
  "language_info": {
   "codemirror_mode": {
    "name": "ipython",
    "version": 3
   },
   "file_extension": ".py",
   "mimetype": "text/x-python",
   "name": "python",
   "nbconvert_exporter": "python",
   "pygments_lexer": "ipython3",
   "version": "3.9.7"
  }
 },
 "nbformat": 4,
 "nbformat_minor": 5
}
