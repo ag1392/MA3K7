{
 "cells": [
  {
   "cell_type": "code",
   "execution_count": null,
   "id": "5a15f8ad",
   "metadata": {},
   "outputs": [],
   "source": [
    "import numpy as np \n",
    "import matplotlib.pyplot as plt "
   ]
  },
  {
   "cell_type": "code",
   "execution_count": null,
   "id": "e6022920",
   "metadata": {},
   "outputs": [],
   "source": [
    "class Bracelet(): \n",
    "    \n",
    "    def __init__(self,n1,n2, modulus=10): \n",
    "        self.n1 = n1 \n",
    "        self.n2 = n2 \n",
    "        self.modulus = modulus \n",
    "        \n",
    "        self.chain = self.chain_until_repeat()\n",
    "        \n",
    "        self.chain_length = len(self.chain)\n",
    "        \n",
    "    def chain_until_repeat(self):\n",
    "        \n",
    "        #initialise chain \n",
    "        chain = [self.n1, self.n2]\n",
    "        \n",
    "        chain_repeat = False \n",
    "        \n",
    "        while not chain_repeat: # we know this will terminate - see rubric \n",
    "            #add to the chain  \n",
    "            chain.append((chain[-1]+chain[-2])%self.modulus)\n",
    "            \n",
    "            #check if we have a repeat \n",
    "            for i in range(len(chain)-2): \n",
    "                if chain[i] == chain[-2] and chain[i+1] == chain[-1]: \n",
    "                    chain_repeat = True \n",
    "                    break \n",
    "        \n",
    "        return chain[:-2] \n",
    "    \n",
    "def unique_bracelets(bracelets):\n",
    "    '''Given a list of bracelets, returns a list of all \n",
    "    bracelets unique up to their closed loop form'''\n",
    "    \n",
    "    unique_bracelets = []\n",
    "    \n",
    "    bracelet_chains = [bracelet.chain for bracelet in bracelets]\n",
    "\n",
    "    for bracelet_a in bracelet_chains:\n",
    "        unique = True\n",
    "\n",
    "        for bracelet_b in unique_bracelets:\n",
    "            if len(bracelet_a) != len(bracelet_b):\n",
    "                continue\n",
    "\n",
    "            # Concatenate bracelet with itself\n",
    "            bracelet_a_double = bracelet_a + bracelet_a\n",
    "\n",
    "            n = len(bracelet_a) \n",
    "            \n",
    "            # Check if bracelet_b is a subsequence of bracelet_b_double\n",
    "            for i in range (n):\n",
    "                if bracelet_b == bracelet_a_double[i:i+n]:\n",
    "                    unique = False\n",
    "                    break\n",
    "\n",
    "        if unique:\n",
    "            unique_bracelets.append(bracelet_a)\n",
    "\n",
    "    return unique_bracelets\n",
    "\n",
    "\n",
    "def calculate_num_bracelets(n): \n",
    "    '''Calculate number of different bracelets mod n '''\n",
    "    all_starts = [(x,y) for x in range(n) for y in range(n)]\n",
    "    all_bracelets = [Bracelet(start[0], start[1], modulus = n) for start in all_starts]\n",
    "    unique_lists = unique_bracelets(all_bracelets)\n",
    "    \n",
    "    return len(unique_lists)"
   ]
  },
  {
   "cell_type": "code",
   "execution_count": null,
   "id": "feca93af",
   "metadata": {},
   "outputs": [],
   "source": [
    "# Finding number of bracelets using mod 10 \n",
    "all_starts = [(x,y) for x in range(10) for y in range(10)]\n",
    "all_bracelets = [Bracelet(*start) for start in all_starts]\n",
    "unique_lists = unique_bracelets(all_bracelets)\n",
    "print('Number of bracelets (mod 10) is ',len(unique_lists))"
   ]
  },
  {
   "cell_type": "code",
   "execution_count": null,
   "id": "1194a1d8",
   "metadata": {},
   "outputs": [],
   "source": [
    "# Finding number of bracelets using mod n 2<=n<=19\n",
    "n = np.arange(2,21) \n",
    "num_bracelets = [calculate_num_bracelets(i) for i in n]\n",
    "\n",
    "print('F(n) for 2<=n<=20: ',num_bracelets)\n",
    "\n",
    "plt.plot(n, num_bracelets)\n",
    "plt.xticks(n)\n",
    "plt.xlabel('$n$')\n",
    "plt.ylabel('$F(n)$')\n",
    "plt.yticks(np.arange(0,24,2))\n",
    "plt.grid()\n",
    "\n",
    "plt.show() "
   ]
  },
  {
   "cell_type": "code",
   "execution_count": null,
   "id": "5eaef885",
   "metadata": {},
   "outputs": [],
   "source": [
    "# Verifying F(2^n)=2^n for 1<=n<=8\n",
    "# WARNING: Takes a long time to run, lower range if desired. \n",
    "\n",
    "x = [2**i for i in range(9)]\n",
    "for n in x: \n",
    "    print(f'F({n}) = {n}: {calculate_num_bracelets(n)==n}')\n",
    "    "
   ]
  }
 ],
 "metadata": {
  "kernelspec": {
   "display_name": "Python 3 (ipykernel)",
   "language": "python",
   "name": "python3"
  },
  "language_info": {
   "codemirror_mode": {
    "name": "ipython",
    "version": 3
   },
   "file_extension": ".py",
   "mimetype": "text/x-python",
   "name": "python",
   "nbconvert_exporter": "python",
   "pygments_lexer": "ipython3",
   "version": "3.9.7"
  }
 },
 "nbformat": 4,
 "nbformat_minor": 5
}
