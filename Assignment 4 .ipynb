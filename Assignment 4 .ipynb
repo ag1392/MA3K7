{
 "cells": [
  {
   "cell_type": "code",
   "execution_count": 14,
   "id": "12d7678f",
   "metadata": {},
   "outputs": [],
   "source": [
    "import random\n",
    "import math"
   ]
  },
  {
   "cell_type": "code",
   "execution_count": 15,
   "id": "d87c6d36",
   "metadata": {},
   "outputs": [
    {
     "name": "stdout",
     "output_type": "stream",
     "text": [
      "The value of x_1 is: 0.6666666865348816\n"
     ]
    }
   ],
   "source": [
    "def calculate_x1(n):\n",
    "    '''Calculates hitting probability h_{1,n} using recursive algorithm'''\n",
    "    \n",
    "    \n",
    "    #initial values\n",
    "    x_i0 = 1\n",
    "    x_i1 = 0\n",
    "    \n",
    "    #x_(i-1) = 0.5*x_i + 0.5*x_(i+1)\n",
    "    \n",
    "    # Work backwards from x_25 and x_26 to calculate x_0\n",
    "    for i in range(n-1, 0, -1):\n",
    "        x_i = 0.5*x_i0 + 0.5*x_i1\n",
    "        \n",
    "        x_i1 = x_i0\n",
    "        x_i0 = x_i\n",
    "         \n",
    "    return x_i0\n",
    "\n",
    "# Calculate and print the value of x_0\n",
    "x_1 = calculate_x1(25)\n",
    "print(\"The value of x_1 is:\", x_1)\n"
   ]
  },
  {
   "cell_type": "code",
   "execution_count": 21,
   "id": "5886ae23",
   "metadata": {},
   "outputs": [],
   "source": [
    "def monte_carlo(n):\n",
    "    '''Return 1 if land on step number n, else return 0 '''\n",
    "    \n",
    "    #step sizes\n",
    "    choices = [1,2]\n",
    "    \n",
    "    #starting number \n",
    "    x = 1\n",
    "    \n",
    "    while x < n+1: \n",
    "        flip = random.choice(choices)\n",
    "        x += flip \n",
    "        \n",
    "        if x == n:\n",
    "            return 1 \n",
    "    return 0 \n"
   ]
  },
  {
   "cell_type": "code",
   "execution_count": 23,
   "id": "59e30315",
   "metadata": {},
   "outputs": [
    {
     "name": "stdout",
     "output_type": "stream",
     "text": [
      "66712\n",
      "0.66712\n"
     ]
    }
   ],
   "source": [
    "#number of trials \n",
    "N = 100000\n",
    "\n",
    "#success number \n",
    "n = 25\n",
    "\n",
    "success = 0\n",
    "\n",
    "for i in range(N): \n",
    "    #count number of successes\n",
    "    success += monte_carlo(n)\n",
    "\n",
    "#estimate probability with law of large numbers \n",
    "est_prob = success/N \n",
    "\n",
    "print(success)\n",
    "print(est_prob)\n"
   ]
  },
  {
   "cell_type": "code",
   "execution_count": 18,
   "id": "cb5a0cce",
   "metadata": {},
   "outputs": [
    {
     "name": "stdout",
     "output_type": "stream",
     "text": [
      "0.0\n"
     ]
    }
   ],
   "source": [
    "def combinatoric_solution(n): \n",
    "    '''Calculate h_{1,n} using the second formula obtained in the rubric\n",
    "        If the rubric is correct the output should always equal calculate_x1(n)'''\n",
    "    \n",
    "    N = math.floor(n-1/2)\n",
    "    total =0\n",
    "    \n",
    "    for i in range(0, N+1): \n",
    "        total += math.comb(n-1-i,i)*1/(2**(n-1-i))\n",
    "    \n",
    "    return total \n",
    "\n",
    "x_1 = combinatoric_solution(9)\n",
    "x_1_2 = calculate_x1(9)\n",
    "\n",
    "#Check solutions match\n",
    "print(x_1 - x_1_2)\n"
   ]
  },
  {
   "cell_type": "code",
   "execution_count": null,
   "id": "591be9f2",
   "metadata": {},
   "outputs": [],
   "source": []
  }
 ],
 "metadata": {
  "kernelspec": {
   "display_name": "Python 3 (ipykernel)",
   "language": "python",
   "name": "python3"
  },
  "language_info": {
   "codemirror_mode": {
    "name": "ipython",
    "version": 3
   },
   "file_extension": ".py",
   "mimetype": "text/x-python",
   "name": "python",
   "nbconvert_exporter": "python",
   "pygments_lexer": "ipython3",
   "version": "3.9.7"
  }
 },
 "nbformat": 4,
 "nbformat_minor": 5
}
