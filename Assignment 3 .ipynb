{
 "cells": [
  {
   "cell_type": "code",
   "execution_count": null,
   "id": "5db17786",
   "metadata": {},
   "outputs": [],
   "source": [
    "import random \n",
    "import numpy as np \n",
    "import matplotlib.pyplot as plt"
   ]
  },
  {
   "cell_type": "code",
   "execution_count": null,
   "id": "d9a96c26",
   "metadata": {},
   "outputs": [],
   "source": [
    "def hat_numbers(n): \n",
    "    hat = list(range(1,n+1))\n",
    "\n",
    "    while(len(hat)>1): \n",
    "        n1 = random.choice(hat)\n",
    "        hat.remove(n1)\n",
    "        n2= random.choice(hat)\n",
    "        hat.remove(n2)\n",
    "\n",
    "        new_num = abs(n1-n2)\n",
    "        hat.append(new_num)\n",
    "    \n",
    "    return hat[0]\n"
   ]
  },
  {
   "cell_type": "code",
   "execution_count": null,
   "id": "e875b12d",
   "metadata": {},
   "outputs": [],
   "source": [
    "#monte carlo sim - takes a very long time to run. To test, decrease N \n",
    "\n",
    "N = 100000\n",
    "results = []\n",
    "\n",
    "for i in range(N): \n",
    "    results.append(hat_numbers(2024))\n",
    "    \n",
    "with open('results.txt', 'w') as file:\n",
    "    for item in results: \n",
    "        file.write(str(item) + ',')"
   ]
  },
  {
   "cell_type": "code",
   "execution_count": null,
   "id": "b5dad2a4",
   "metadata": {},
   "outputs": [],
   "source": [
    "# Create histogram\n",
    "\n",
    "hist = plt.hist(results, bins=20)\n",
    "plt.title('Bar Chart Showing Frequency of Different Final Numbers over 100,000 Trials')\n",
    "plt.xlabel('Final Number')\n",
    "plt.ylabel('Frequency')\n",
    "plt.show()"
   ]
  },
  {
   "cell_type": "code",
   "execution_count": null,
   "id": "0d22e55e",
   "metadata": {},
   "outputs": [],
   "source": [
    "print(np.mean(results))"
   ]
  }
 ],
 "metadata": {
  "kernelspec": {
   "display_name": "Python 3 (ipykernel)",
   "language": "python",
   "name": "python3"
  },
  "language_info": {
   "codemirror_mode": {
    "name": "ipython",
    "version": 3
   },
   "file_extension": ".py",
   "mimetype": "text/x-python",
   "name": "python",
   "nbconvert_exporter": "python",
   "pygments_lexer": "ipython3",
   "version": "3.9.7"
  }
 },
 "nbformat": 4,
 "nbformat_minor": 5
}
